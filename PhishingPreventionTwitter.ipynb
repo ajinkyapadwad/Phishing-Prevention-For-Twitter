{
 "cells": [
  {
   "cell_type": "markdown",
   "metadata": {},
   "source": [
    "Project: Phishing Prevention for Twitter: Machine Learning Approach\n",
    "Group 6:Daohui, Anish, Tejas and Ajinkya"
   ]
  },
  {
   "cell_type": "code",
   "execution_count": 64,
   "metadata": {},
   "outputs": [],
   "source": [
    "import os                     # OS system library\n",
    "from os.path import splitext  # OS library package to split URL into parts\n",
    "import numpy as np            # numpy library for storing multi dimensional arrays\n",
    "import matplotlib             # libary to plot graphs and visualize\n",
    "import pandas as pd           # data set manipulation library\n",
    "import ipaddress as ip        # library to detect IP address in URL\n",
    "import tldextract             # library to separate TLD from domains in URL\n",
    "try:                          # URL library to parse into string\n",
    "    from urllib.parse import urlparse\n",
    "except ImportError:\n",
    "     from urlparse import urlparse"
   ]
  },
  {
   "cell_type": "code",
   "execution_count": 65,
   "metadata": {},
   "outputs": [],
   "source": [
    "dataset = pd.read_csv(\"dataset1.csv\")   # read the dataset file\n",
    "dataset = dataset.sample(frac=1).reset_index(drop=True) # 10 percent random sampling from dataset, with no index in columns\n",
    "# dataset.head(n=10) # display first N rows"
   ]
  },
  {
   "cell_type": "code",
   "execution_count": 66,
   "metadata": {},
   "outputs": [],
   "source": [
    "Suspicious_TLD=['zip','cricket','link','work','party','gq','kim','country','science','tk']\n",
    "Suspicious_Domain=['luckytime.co.kr','mattfoll.eu.interia.pl','trafficholder.com','dl.baixaki.com.br','bembed.redtube.comr','tags.expo9.exponential.com','deepspacer.com','funad.co.kr','trafficconverter.biz']"
   ]
  },
  {
   "cell_type": "code",
   "execution_count": 67,
   "metadata": {},
   "outputs": [],
   "source": [
    "# Method to count number of delimeters\n",
    "def countdelim(url):\n",
    "    count = 0\n",
    "    delim=[';','_','?','=','&']\n",
    "    for each in url:\n",
    "        if each in delim:\n",
    "            count = count + 1\n",
    "    return count\n",
    "# Method to count number of dots\n",
    "def countdots(url):  \n",
    "    return url.count('.')\n",
    "def isip(uri):\n",
    "    try:\n",
    "        if ip.ip_address(uri):\n",
    "            return 1\n",
    "    except:\n",
    "        return 0\n",
    "#method to check the presence of hyphens\n",
    "def isPresentHyphen(url):\n",
    "    return url.count('-')\n",
    "\n",
    "#method to check the presence of @\n",
    "\n",
    "def isPresentAt(url):\n",
    "    return url.count('@')\n",
    "\n",
    "def isPresentDSlash(url):\n",
    "    return url.count('//')\n",
    "\n",
    "def countSubDir(url):\n",
    "    return url.count('/')\n",
    "\n",
    "def get_ext(url):\n",
    "    \"\"\"Return the filename extension from url, or ''.\"\"\"\n",
    "    \n",
    "    root, ext = splitext(url)\n",
    "    return ext\n",
    "\n",
    "def countSubDomain(subdomain):\n",
    "    if not subdomain:\n",
    "        return 0\n",
    "    else:\n",
    "        return len(subdomain.split('.'))\n",
    "\n",
    "def countQueries(query):\n",
    "    if not query:\n",
    "        return 0\n",
    "    else:\n",
    "        return len(query.split('&'))\n"
   ]
  },
  {
   "cell_type": "code",
   "execution_count": 68,
   "metadata": {},
   "outputs": [],
   "source": [
    "featureSet = pd.DataFrame(columns=('url','dots count','hyphen present','url length','at present',\\\n",
    "'double slash present','subdir count','subdomain count','domain length','queries count','IP present','suspicious TLD',\\\n",
    "'suspicious domain','label'))"
   ]
  },
  {
   "cell_type": "code",
   "execution_count": 69,
   "metadata": {},
   "outputs": [],
   "source": [
    "def getFeatures(url, label): \n",
    "    result = []\n",
    "    url = str(url)\n",
    "    \n",
    "    #add the url to feature set\n",
    "    result.append(url)\n",
    "    \n",
    "    #parse the URL and extract the domain information\n",
    "    path = urlparse(url)\n",
    "    ext = tldextract.extract(url)\n",
    "    \n",
    "    #counting number of dots in subdomain    \n",
    "    result.append(countdots(ext.subdomain))\n",
    "    \n",
    "    #checking hyphen in domain   \n",
    "    result.append(isPresentHyphen(path.netloc))\n",
    "    \n",
    "    #length of URL    \n",
    "    result.append(len(url))\n",
    "    \n",
    "    #checking @ in the url    \n",
    "    result.append(isPresentAt(path.netloc))\n",
    "    \n",
    "    #checking presence of double slash    \n",
    "    result.append(isPresentDSlash(path.path))\n",
    "    \n",
    "    #Count number of subdir    \n",
    "    result.append(countSubDir(path.path))\n",
    "    \n",
    "    #number of sub domain    \n",
    "    result.append(countSubDomain(ext.subdomain))\n",
    "    \n",
    "    #length of domain name    \n",
    "    result.append(len(path.netloc))\n",
    "    \n",
    "    #count number of queries    \n",
    "    result.append(len(path.query))\n",
    "    \n",
    "    #Adding domain information\n",
    "    \n",
    "    #if IP address is being used as a URL     \n",
    "    result.append(isip(ext.domain))\n",
    "    \n",
    "    #presence of Suspicious_TLD\n",
    "    result.append(1 if ext.suffix in Suspicious_TLD else 0)\n",
    "    \n",
    "    #presence of suspicious domain\n",
    "    result.append(1 if '.'.join(ext[1:]) in Suspicious_Domain else 0 )\n",
    "     \n",
    "    result.append(str(label))\n",
    "    \n",
    "    return result"
   ]
  },
  {
   "cell_type": "code",
   "execution_count": 70,
   "metadata": {},
   "outputs": [],
   "source": [
    "for i in range(len(dataset)):\n",
    "    features = getFeatures(dataset[\"URL\"].loc[i], dataset[\"Lable\"].loc[i])    \n",
    "    featureSet.loc[i] = features      "
   ]
  },
  {
   "cell_type": "code",
   "execution_count": 71,
   "metadata": {},
   "outputs": [
    {
     "data": {
      "text/html": [
       "<div>\n",
       "<table border=\"1\" class=\"dataframe\">\n",
       "  <thead>\n",
       "    <tr style=\"text-align: right;\">\n",
       "      <th></th>\n",
       "      <th>url</th>\n",
       "      <th>dots count</th>\n",
       "      <th>hyphen present</th>\n",
       "      <th>url length</th>\n",
       "      <th>at present</th>\n",
       "      <th>double slash present</th>\n",
       "      <th>subdir count</th>\n",
       "      <th>subdomain count</th>\n",
       "      <th>domain length</th>\n",
       "      <th>queries count</th>\n",
       "      <th>IP present</th>\n",
       "      <th>suspicious TLD</th>\n",
       "      <th>suspicious domain</th>\n",
       "      <th>label</th>\n",
       "    </tr>\n",
       "  </thead>\n",
       "  <tbody>\n",
       "    <tr>\n",
       "      <th>0</th>\n",
       "      <td>http://www.brighter.com.hk/</td>\n",
       "      <td>0.0</td>\n",
       "      <td>0.0</td>\n",
       "      <td>27.0</td>\n",
       "      <td>0.0</td>\n",
       "      <td>0.0</td>\n",
       "      <td>1.0</td>\n",
       "      <td>1.0</td>\n",
       "      <td>19.0</td>\n",
       "      <td>0.0</td>\n",
       "      <td>0.0</td>\n",
       "      <td>0.0</td>\n",
       "      <td>0.0</td>\n",
       "      <td>0</td>\n",
       "    </tr>\n",
       "    <tr>\n",
       "      <th>1</th>\n",
       "      <td>http://www.kloshpro.com/js/db/a/db/e/7/dropbx....</td>\n",
       "      <td>0.0</td>\n",
       "      <td>0.0</td>\n",
       "      <td>61.0</td>\n",
       "      <td>0.0</td>\n",
       "      <td>0.0</td>\n",
       "      <td>8.0</td>\n",
       "      <td>1.0</td>\n",
       "      <td>16.0</td>\n",
       "      <td>0.0</td>\n",
       "      <td>0.0</td>\n",
       "      <td>0.0</td>\n",
       "      <td>0.0</td>\n",
       "      <td>1</td>\n",
       "    </tr>\n",
       "  </tbody>\n",
       "</table>\n",
       "</div>"
      ],
      "text/plain": [
       "                                                 url  dots count  \\\n",
       "0                        http://www.brighter.com.hk/         0.0   \n",
       "1  http://www.kloshpro.com/js/db/a/db/e/7/dropbx....         0.0   \n",
       "\n",
       "   hyphen present  url length  at present  double slash present  subdir count  \\\n",
       "0             0.0        27.0         0.0                   0.0           1.0   \n",
       "1             0.0        61.0         0.0                   0.0           8.0   \n",
       "\n",
       "   subdomain count  domain length  queries count  IP present  suspicious TLD  \\\n",
       "0              1.0           19.0            0.0         0.0             0.0   \n",
       "1              1.0           16.0            0.0         0.0             0.0   \n",
       "\n",
       "   suspicious domain label  \n",
       "0                0.0     0  \n",
       "1                0.0     1  "
      ]
     },
     "execution_count": 71,
     "metadata": {},
     "output_type": "execute_result"
    }
   ],
   "source": [
    "featureSet.head(n=2)"
   ]
  },
  {
   "cell_type": "code",
   "execution_count": 72,
   "metadata": {},
   "outputs": [],
   "source": [
    "import matplotlib.pyplot as plt\n",
    "import pandas as pd\n",
    "import seaborn as sns\n",
    "import pickle as pkl\n",
    "from __future__ import division"
   ]
  },
  {
   "cell_type": "markdown",
   "metadata": {},
   "source": [
    "Lets visualize the data"
   ]
  },
  {
   "cell_type": "markdown",
   "metadata": {},
   "source": [
    " URL length Distributions of both Malicious as well as Benign URLs. "
   ]
  },
  {
   "cell_type": "code",
   "execution_count": 173,
   "metadata": {},
   "outputs": [
    {
     "data": {
      "image/png": "[encoded data removed]",
      "text/plain": [
       "<matplotlib.figure.Figure at 0x6cc8330>"
      ]
     },
     "metadata": {},
     "output_type": "display_data"
    }
   ],
   "source": [
    "sns.set(style=\"darkgrid\")\n",
    "sns.distplot(featureSet[featureSet['label']=='0']['queries count'],color='green',label='Benign')\n",
    "sns.distplot(featureSet[featureSet['label']=='1']['queries count'],color='red',label='Malicious')\n",
    "plt.legend(loc='center right')\n",
    "plt.xlabel('Number of queries')\n",
    "plt.show()"
   ]
  },
  {
   "cell_type": "markdown",
   "metadata": {},
   "source": [
    "Number of Dots Distributions of both Malicious as well as Benign URLs."
   ]
  },
  {
   "cell_type": "code",
   "execution_count": 76,
   "metadata": {},
   "outputs": [
    {
     "data": {
      "image/png": "[encoded data removed]",
      "text/plain": [
       "<matplotlib.figure.Figure at 0x6ca2730>"
      ]
     },
     "metadata": {},
     "output_type": "display_data"
    }
   ],
   "source": [
    "x=featureSet[featureSet['label']=='0']['dots count']\n",
    "y=featureSet[featureSet['label']=='1']['dots count']\n",
    "plt.hist(x,bins=8, alpha=0.9, label='Benign URLs',color='blue')\n",
    "#sns.distplot(x,bins=8,color='blue',label='Benign URLs')\n",
    "plt.hist(y,bins=10, alpha=0.6, label='Malicious URLs',color='red')\n",
    "#sns.distplot(y,bins=8,color='red',label='Malicious URLs')\n",
    "plt.legend(loc='upper right')\n",
    "plt.xlabel('Number of Dots')\n",
    "plt.title('Distribution of Number of Dots in URL')\n",
    "plt.show()"
   ]
  },
  {
   "cell_type": "markdown",
   "metadata": {},
   "source": [
    "Domain length Distributions of both Malicious as well as Benign URLs."
   ]
  },
  {
   "cell_type": "code",
   "execution_count": 77,
   "metadata": {},
   "outputs": [],
   "source": [
    "# sns.set(style=\"darkgrid\")\n",
    "# sns.distplot(featureSet[featureSet['label']=='0']['len of domain'],color='blue',label='Benign URLs')\n",
    "# sns.distplot(featureSet[featureSet['label']=='1']['len of domain'],color='red',label='Malicious URLs')\n",
    "# #sns.plt.title('Domain Length Distribution')\n",
    "# plt.legend(loc='upper right')\n",
    "# plt.xlabel('Length of Domain/Host')\n",
    "# plt.show()"
   ]
  },
  {
   "cell_type": "markdown",
   "metadata": {},
   "source": [
    "I can query minimal URL's per day using whois to get domain information. Waiting to get complete feature set, hence commented out"
   ]
  },
  {
   "cell_type": "code",
   "execution_count": 78,
   "metadata": {},
   "outputs": [],
   "source": [
    "import sklearn.ensemble as ek\n",
    "from sklearn import cross_validation, tree, linear_model\n",
    "from sklearn.feature_selection import SelectFromModel\n",
    "from sklearn.externals import joblib\n",
    "from sklearn.naive_bayes import GaussianNB\n",
    "from sklearn.metrics import confusion_matrix\n",
    "from sklearn.pipeline import make_pipeline\n",
    "from sklearn import preprocessing\n",
    "from sklearn import svm\n",
    "from sklearn.linear_model import LogisticRegression\n"
   ]
  },
  {
   "cell_type": "markdown",
   "metadata": {},
   "source": [
    "Let's just see the number of Benign and Phishin/Malicious emails"
   ]
  },
  {
   "cell_type": "code",
   "execution_count": 79,
   "metadata": {},
   "outputs": [
    {
     "data": {
      "text/plain": [
       "label\n",
       "0    3494\n",
       "1    3536\n",
       "dtype: int64"
      ]
     },
     "execution_count": 79,
     "metadata": {},
     "output_type": "execute_result"
    }
   ],
   "source": [
    "featureSet.groupby(featureSet['label']).size()"
   ]
  },
  {
   "cell_type": "markdown",
   "metadata": {},
   "source": [
    "Separate label and feature set. It would have been nice if I had domain features too. "
   ]
  },
  {
   "cell_type": "code",
   "execution_count": 80,
   "metadata": {},
   "outputs": [],
   "source": [
    "X = featureSet.drop(['url','label'],axis=1).values\n",
    "y = featureSet['label'].values"
   ]
  },
  {
   "cell_type": "markdown",
   "metadata": {},
   "source": [
    "### Time for Machine Learning"
   ]
  },
  {
   "cell_type": "code",
   "execution_count": 130,
   "metadata": {},
   "outputs": [],
   "source": [
    "model = { \"DecisionTree\":tree.DecisionTreeClassifier(max_depth=10),\n",
    "         \"RandomForest\":ek.RandomForestClassifier(n_estimators=50),\n",
    "         \"Adaboost\":ek.AdaBoostClassifier(n_estimators=50),\n",
    "         \"GradientBoosting\":ek.GradientBoostingClassifier(n_estimators=50),\n",
    "         \"GNB\":GaussianNB(),\n",
    "         \"LogisticRegression\":LogisticRegression()   \n",
    "}"
   ]
  },
  {
   "cell_type": "markdown",
   "metadata": {},
   "source": [
    "##### cross validation"
   ]
  },
  {
   "cell_type": "code",
   "execution_count": 131,
   "metadata": {},
   "outputs": [],
   "source": [
    "X_train, X_test, y_train, y_test = cross_validation.train_test_split(X, y ,test_size=0.2)"
   ]
  },
  {
   "cell_type": "code",
   "execution_count": 132,
   "metadata": {},
   "outputs": [
    {
     "name": "stdout",
     "output_type": "stream",
     "text": [
      "LogisticRegression : 0.843527738265 \n",
      "RandomForest : 0.889758179232 \n",
      "GradientBoosting : 0.881934566145 \n",
      "GNB : 0.692034139403 \n",
      "DecisionTree : 0.894736842105 \n",
      "Adaboost : 0.878378378378 \n"
     ]
    }
   ],
   "source": [
    "results = {}\n",
    "for algo in model:\n",
    "    clf = model[algo]\n",
    "    clf.fit(X_train,y_train)\n",
    "    score = clf.score(X_test,y_test)\n",
    "    print (\"%s : %s \" %(algo, score))\n",
    "    results[algo] = score"
   ]
  },
  {
   "cell_type": "code",
   "execution_count": 133,
   "metadata": {},
   "outputs": [
    {
     "name": "stdout",
     "output_type": "stream",
     "text": [
      "DecisionTree\n"
     ]
    }
   ],
   "source": [
    "winner = max(results, key=results.get)\n",
    "print(winner)\n",
    "# winner = \"DecisionTree\""
   ]
  },
  {
   "cell_type": "code",
   "execution_count": 134,
   "metadata": {},
   "outputs": [
    {
     "name": "stdout",
     "output_type": "stream",
     "text": [
      "False positive rate : 6.954780 %\n",
      "False negative rate : 6.674208 %\n"
     ]
    }
   ],
   "source": [
    "clf = model[winner]\n",
    "res = clf.predict(X)\n",
    "mt = confusion_matrix(y, res)\n",
    "print(\"False positive rate : %f %%\" % ((mt[0][1] / float(sum(mt[0])))*100))\n",
    "print('False negative rate : %f %%' % ( (mt[1][0] / float(sum(mt[1]))*100)))"
   ]
  },
  {
   "cell_type": "markdown",
   "metadata": {},
   "source": [
    "### Testing\n",
    "\n",
    "Let's test' some of the malicious URL's listed in Trend Micro's website. http://apac.trendmicro.com/apac/security-intelligence/current-threat-activity/malicious-top-ten/"
   ]
  },
  {
   "cell_type": "code",
   "execution_count": 139,
   "metadata": {},
   "outputs": [
    {
     "name": "stdout",
     "output_type": "stream",
     "text": [
      "['1']\n"
     ]
    }
   ],
   "source": [
    "result = pd.DataFrame(columns=('url','no of dots','presence of hyphen','len of url','presence of at',\\\n",
    "'presence of double slash','no of subdir','no of subdomain','len of domain','no of queries','is IP','presence of Suspicious_TLD',\\\n",
    "'presence of suspicious domain','label'))\n",
    "\n",
    "results = getFeatures('http://tdngrdgdc.blogspot.ru', '0')\n",
    "# results = getFeatures('http://www.google.com/', '1')\n",
    "result.loc[0] = results\n",
    "result = result.drop(['url','label'],axis=1).values\n",
    "\n",
    "print(clf.predict(result))"
   ]
  },
  {
   "cell_type": "markdown",
   "metadata": {},
   "source": [
    "Success! One more time :) "
   ]
  },
  {
   "cell_type": "code",
   "execution_count": 151,
   "metadata": {},
   "outputs": [
    {
     "name": "stdout",
     "output_type": "stream",
     "text": [
      "User id    :  86953262\n",
      "Extracting URL from tweets.... (Max: 490)\n",
      "Resolving URL......\n",
      "URL:  http://bing.com\n",
      "*** BENIGN ***\n",
      "----------------------------------------------------------------\n",
      "URL:  http://rutgers.com\n",
      "*** BENIGN ***\n",
      "----------------------------------------------------------------\n",
      "URL:  http://facebook.com\n",
      "*** BENIGN ***\n",
      "----------------------------------------------------------------\n",
      "URL:  http://twitter.com\n",
      "*** BENIGN ***\n",
      "----------------------------------------------------------------\n",
      "URL:  http://tdngrdgdc.blogspot.ru\n",
      "*** MALICIOUS ***\n",
      "----------------------------------------------------------------\n",
      "URL:  http://linkedin.com\n",
      "*** BENIGN ***\n",
      "----------------------------------------------------------------\n",
      "URL:  http://wikipedia.com\n",
      "*** BENIGN ***\n",
      "----------------------------------------------------------------\n",
      "URL:  http://google.com/wikipedia\n",
      "*** MALICIOUS ***\n",
      "----------------------------------------------------------------\n",
      "URL:  http://davaoblog.com/id/onlin/nn.nz/index.htm\n",
      "*** MALICIOUS ***\n",
      "----------------------------------------------------------------\n",
      "URL:  \n",
      "*** MALICIOUS ***\n",
      "----------------------------------------------------------------\n"
     ]
    }
   ],
   "source": [
    "import json\n",
    "import codecs\n",
    "import os\n",
    "import shutil\n",
    "import requests\n",
    "from collections import Counter\n",
    "\n",
    "\n",
    "global depth\n",
    "global dir_id\n",
    "global counter\n",
    "global counter_blacklist\n",
    "global url_link\n",
    "global url_profile\n",
    "global total_list\n",
    "global google_status\n",
    "global phishtank_status\n",
    "global urlblacklist_status\n",
    "\n",
    "url_profile=\"\"\n",
    "url_link=\"\"\n",
    "total_list=[]\n",
    "depth=0\n",
    "counter=0\n",
    "counter_blacklist=0\n",
    "dir_id=\"\"\n",
    "google_status = False\n",
    "phishtank_status = False\n",
    "urlblacklist_status = False\n",
    "\n",
    "def init_auto():\n",
    "    global dir_id\n",
    "    global depth\n",
    "    global counter\n",
    "    global counter_blacklist\n",
    "    global url_profile\n",
    "    global google_status\n",
    "    global phishtank_status\n",
    "    global urlblacklist_status\n",
    "    \n",
    "    while depth<3:\n",
    "        dir_depth = 'E:/Twitter/Depth-%d' % depth\n",
    "        list_dir = os.listdir(dir_depth)\n",
    "       \n",
    "        for doc in list_dir:\n",
    "            ## Initialize/Reset the condition flags.\n",
    "            google_status = False\n",
    "            phishtank_status = False\n",
    "            urlblacklist_status = False\n",
    "            dir_count()\n",
    "            counter +=1\n",
    "            print \"User id    : \",str(doc)\n",
    "\n",
    "            dir_id = '%s/%s' % (dir_depth,str(doc))\n",
    "            os.system('cls' if os.name == 'nt' else 'clear')\n",
    "            \n",
    "            xtract_url()\n",
    "    \n",
    "            urlList = url_link.split('\\n')\n",
    "\n",
    "            for subURL in urlList:\n",
    "                result = pd.DataFrame(columns=('url','no of dots','presence of hyphen','len of url','presence of at',\\\n",
    "                'presence of double slash','no of subdir','no of subdomain','len of domain','no of queries','is IP','presence of Suspicious_TLD',\\\n",
    "                'presence of suspicious domain','label'))\n",
    "                \n",
    "                results = getFeatures(str(subURL), str(1))\n",
    "                print \"URL: \", subURL\n",
    "                result.loc[0] = results\n",
    "                result = result.drop(['url','label'],axis=1).values\n",
    "#                 print(clf.predict(result))\n",
    "                out = int(str(clf.predict(result))[2])\n",
    "                if out: \n",
    "                    print \"*** MALICIOUS ***\"\n",
    "                else: print \"*** BENIGN ***\"\n",
    "                \n",
    "                print \"----------------------------------------------------------------\"\n",
    "\n",
    "        depth +=1\n",
    "\n",
    "def xtract_url():\n",
    "    global url_link\n",
    "    global total_list\n",
    "    total_list = []\n",
    "    url_link=\"\"\n",
    "    try:\n",
    "        url_count=0\n",
    "        c=0\n",
    "        dir_tweet = '%s/tweets.dump' % dir_id\n",
    "        jfile2 = codecs.open(dir_tweet,'rb','utf-8')\n",
    "        print(\"Extracting URL from tweets.... (Max: 490)\")\n",
    "        print(\"Resolving URL......\")\n",
    "        for jdoc in jfile2:\n",
    "            jobj = json.loads(jdoc)\n",
    "            list_url = jobj['entities']['urls']\n",
    "            for url in list_url:\n",
    "                                \n",
    "                url = str(url['expanded_url'])\n",
    "                total_list.append(url)\n",
    "                url_link = url_link + url+\"\\n\"\n",
    "                url_count+=1\n",
    "                \n",
    "            if url_count> 490:\n",
    "                break\n",
    "                \n",
    "        #url_link = \"%d\\n%s\" %(url_count,url_link)\n",
    "        jfile2.close()\n",
    "        #print(\"URL Count :\",url_count)\n",
    "        #print(\"\")\n",
    "    except FileNotFoundError as e:\n",
    "        print(e, \" in extract tweets\")\n",
    "        \n",
    "\n",
    "def dir_count():\n",
    "    global counter_blacklist\n",
    "\n",
    "    counter_blacklist = len(os.listdir(\"E:/Classify/Blacklist/\"))\n",
    "\n",
    "def decision(user):\n",
    "    if (google_status is True) or (phishtank_status is True) or (urlblacklist_status is True):\n",
    "        list_l = os.listdir(dir_id)\n",
    "        dst_dir = \"E:/Classify/Blacklist/%s\" % user\n",
    "        os.makedirs(dst_dir)\n",
    "        for file in list_l:\n",
    "            src_f = \"%s/%s\" %(dir_id,file)\n",
    "            dst_f = \"%s/%s\" %(dst_dir,file)\n",
    "            shutil.move(src_f, dst_f)\n",
    "        os.rmdir(dir_id)\n",
    "        return True\n",
    "\n",
    "init_auto()"
   ]
  },
  {
   "cell_type": "code",
   "execution_count": null,
   "metadata": {},
   "outputs": [],
   "source": []
  }
 ],
 "metadata": {
  "kernelspec": {
   "display_name": "Python 2",
   "language": "python",
   "name": "python2"
  },
  "language_info": {
   "codemirror_mode": {
    "name": "ipython",
    "version": 2
   },
   "file_extension": ".py",
   "mimetype": "text/x-python",
   "name": "python",
   "nbconvert_exporter": "python",
   "pygments_lexer": "ipython2",
   "version": "2.7.13"
  }
 },
 "nbformat": 4,
 "nbformat_minor": 1
}
